{
 "cells": [
  {
   "cell_type": "markdown",
   "source": [
    "# Machine Failure Prediction | ITI | Data Science\n",
    "Predict machine failure probability using Machine Learning and key features to enhance maintenance efficiency and reduce downtime."
   ],
   "metadata": {
    "collapsed": false
   },
   "id": "c0c2ae69eca1de8f"
  },
  {
   "cell_type": "markdown",
   "source": [
    "## Dataset Description\n",
    "\n",
    "The dataset for this competition (both train and test) was generated from a deep learning model trained on the Machine Failure Predictions. Feature distributions are close to, but not exactly the same, as the original. Feel free to use the original dataset as part of this competition, both to explore differences and to see whether incorporating the original in training improves model performance."
   ],
   "metadata": {
    "collapsed": false
   },
   "id": "dcf19536946e1c22"
  },
  {
   "cell_type": "markdown",
   "source": [
    "## Files\n",
    "\n",
    "1. train.csv - the training dataset; Machine failure is the (binary) target (which, in order to align with the ordering of the original dataset, is not in the last column position)\n",
    "2. test.csv - the test dataset; your objective is to predict the probability of Machine failure\n",
    "3. sample_submission.csv - a sample submission file in the correct format"
   ],
   "metadata": {
    "collapsed": false
   },
   "id": "4d36b055dff28a3f"
  },
  {
   "cell_type": "code",
   "source": [
    "import pandas as pd"
   ],
   "metadata": {
    "collapsed": false,
    "ExecuteTime": {
     "end_time": "2024-04-13T02:13:33.478920Z",
     "start_time": "2024-04-13T02:13:33.476950Z"
    }
   },
   "id": "7b8ae3f55907c661",
   "outputs": [],
   "execution_count": 1
  },
  {
   "cell_type": "code",
   "source": [
    "# Load the data\n",
    "df = pd.read_csv('train.csv', index_col='id')\n",
    "test = pd.read_csv('test.csv', index_col='id')\n",
    "\n",
    "df.head(5)"
   ],
   "metadata": {
    "collapsed": false,
    "ExecuteTime": {
     "end_time": "2024-04-13T02:13:35.529306Z",
     "start_time": "2024-04-13T02:13:35.444322Z"
    }
   },
   "id": "ad1b31fa09688a60",
   "outputs": [
    {
     "data": {
      "text/plain": [
       "   Product ID Type  Air temperature [K]  Process temperature [K]  \\\n",
       "id                                                                 \n",
       "0      L50096    L                300.6                    309.6   \n",
       "1      M20343    M                302.6                    312.1   \n",
       "2      L49454    L                299.3                    308.5   \n",
       "3      L53355    L                301.0                    310.9   \n",
       "4      M24050    M                298.0                    309.0   \n",
       "\n",
       "    Rotational speed [rpm]  Torque [Nm]  Tool wear [min]  Machine failure  \\\n",
       "id                                                                          \n",
       "0                     1596         36.1              140                0   \n",
       "1                     1759         29.1              200                0   \n",
       "2                     1805         26.5               25                0   \n",
       "3                     1524         44.3              197                0   \n",
       "4                     1641         35.4               34                0   \n",
       "\n",
       "    TWF  HDF  PWF  OSF  RNF  \n",
       "id                           \n",
       "0     0    0    0    0    0  \n",
       "1     0    0    0    0    0  \n",
       "2     0    0    0    0    0  \n",
       "3     0    0    0    0    0  \n",
       "4     0    0    0    0    0  "
      ],
      "text/html": [
       "<div>\n",
       "<style scoped>\n",
       "    .dataframe tbody tr th:only-of-type {\n",
       "        vertical-align: middle;\n",
       "    }\n",
       "\n",
       "    .dataframe tbody tr th {\n",
       "        vertical-align: top;\n",
       "    }\n",
       "\n",
       "    .dataframe thead th {\n",
       "        text-align: right;\n",
       "    }\n",
       "</style>\n",
       "<table border=\"1\" class=\"dataframe\">\n",
       "  <thead>\n",
       "    <tr style=\"text-align: right;\">\n",
       "      <th></th>\n",
       "      <th>Product ID</th>\n",
       "      <th>Type</th>\n",
       "      <th>Air temperature [K]</th>\n",
       "      <th>Process temperature [K]</th>\n",
       "      <th>Rotational speed [rpm]</th>\n",
       "      <th>Torque [Nm]</th>\n",
       "      <th>Tool wear [min]</th>\n",
       "      <th>Machine failure</th>\n",
       "      <th>TWF</th>\n",
       "      <th>HDF</th>\n",
       "      <th>PWF</th>\n",
       "      <th>OSF</th>\n",
       "      <th>RNF</th>\n",
       "    </tr>\n",
       "    <tr>\n",
       "      <th>id</th>\n",
       "      <th></th>\n",
       "      <th></th>\n",
       "      <th></th>\n",
       "      <th></th>\n",
       "      <th></th>\n",
       "      <th></th>\n",
       "      <th></th>\n",
       "      <th></th>\n",
       "      <th></th>\n",
       "      <th></th>\n",
       "      <th></th>\n",
       "      <th></th>\n",
       "      <th></th>\n",
       "    </tr>\n",
       "  </thead>\n",
       "  <tbody>\n",
       "    <tr>\n",
       "      <th>0</th>\n",
       "      <td>L50096</td>\n",
       "      <td>L</td>\n",
       "      <td>300.6</td>\n",
       "      <td>309.6</td>\n",
       "      <td>1596</td>\n",
       "      <td>36.1</td>\n",
       "      <td>140</td>\n",
       "      <td>0</td>\n",
       "      <td>0</td>\n",
       "      <td>0</td>\n",
       "      <td>0</td>\n",
       "      <td>0</td>\n",
       "      <td>0</td>\n",
       "    </tr>\n",
       "    <tr>\n",
       "      <th>1</th>\n",
       "      <td>M20343</td>\n",
       "      <td>M</td>\n",
       "      <td>302.6</td>\n",
       "      <td>312.1</td>\n",
       "      <td>1759</td>\n",
       "      <td>29.1</td>\n",
       "      <td>200</td>\n",
       "      <td>0</td>\n",
       "      <td>0</td>\n",
       "      <td>0</td>\n",
       "      <td>0</td>\n",
       "      <td>0</td>\n",
       "      <td>0</td>\n",
       "    </tr>\n",
       "    <tr>\n",
       "      <th>2</th>\n",
       "      <td>L49454</td>\n",
       "      <td>L</td>\n",
       "      <td>299.3</td>\n",
       "      <td>308.5</td>\n",
       "      <td>1805</td>\n",
       "      <td>26.5</td>\n",
       "      <td>25</td>\n",
       "      <td>0</td>\n",
       "      <td>0</td>\n",
       "      <td>0</td>\n",
       "      <td>0</td>\n",
       "      <td>0</td>\n",
       "      <td>0</td>\n",
       "    </tr>\n",
       "    <tr>\n",
       "      <th>3</th>\n",
       "      <td>L53355</td>\n",
       "      <td>L</td>\n",
       "      <td>301.0</td>\n",
       "      <td>310.9</td>\n",
       "      <td>1524</td>\n",
       "      <td>44.3</td>\n",
       "      <td>197</td>\n",
       "      <td>0</td>\n",
       "      <td>0</td>\n",
       "      <td>0</td>\n",
       "      <td>0</td>\n",
       "      <td>0</td>\n",
       "      <td>0</td>\n",
       "    </tr>\n",
       "    <tr>\n",
       "      <th>4</th>\n",
       "      <td>M24050</td>\n",
       "      <td>M</td>\n",
       "      <td>298.0</td>\n",
       "      <td>309.0</td>\n",
       "      <td>1641</td>\n",
       "      <td>35.4</td>\n",
       "      <td>34</td>\n",
       "      <td>0</td>\n",
       "      <td>0</td>\n",
       "      <td>0</td>\n",
       "      <td>0</td>\n",
       "      <td>0</td>\n",
       "      <td>0</td>\n",
       "    </tr>\n",
       "  </tbody>\n",
       "</table>\n",
       "</div>"
      ]
     },
     "execution_count": 2,
     "metadata": {},
     "output_type": "execute_result"
    }
   ],
   "execution_count": 2
  },
  {
   "metadata": {
    "ExecuteTime": {
     "end_time": "2024-04-13T02:13:36.787622Z",
     "start_time": "2024-04-13T02:13:36.781483Z"
    }
   },
   "cell_type": "code",
   "source": "test.head(5)",
   "id": "9509631488279082",
   "outputs": [
    {
     "data": {
      "text/plain": [
       "   Product ID Type  Air temperature [K]  Process temperature [K]  \\\n",
       "id                                                                 \n",
       "0      M14860    M                298.1                    308.6   \n",
       "1      L47181    L                298.2                    308.7   \n",
       "2      L47182    L                298.1                    308.5   \n",
       "3      L47183    L                298.2                    308.6   \n",
       "4      L47184    L                298.2                    308.7   \n",
       "\n",
       "    Rotational speed [rpm]  Torque [Nm]  Tool wear [min]  TWF  HDF  PWF  OSF  \\\n",
       "id                                                                             \n",
       "0                     1551         42.8                0    0    0    0    0   \n",
       "1                     1408         46.3                3    0    0    0    0   \n",
       "2                     1498         49.4                5    0    0    0    0   \n",
       "3                     1433         39.5                7    0    0    0    0   \n",
       "4                     1408         40.0                9    0    0    0    0   \n",
       "\n",
       "    RNF  \n",
       "id       \n",
       "0     0  \n",
       "1     0  \n",
       "2     0  \n",
       "3     0  \n",
       "4     0  "
      ],
      "text/html": [
       "<div>\n",
       "<style scoped>\n",
       "    .dataframe tbody tr th:only-of-type {\n",
       "        vertical-align: middle;\n",
       "    }\n",
       "\n",
       "    .dataframe tbody tr th {\n",
       "        vertical-align: top;\n",
       "    }\n",
       "\n",
       "    .dataframe thead th {\n",
       "        text-align: right;\n",
       "    }\n",
       "</style>\n",
       "<table border=\"1\" class=\"dataframe\">\n",
       "  <thead>\n",
       "    <tr style=\"text-align: right;\">\n",
       "      <th></th>\n",
       "      <th>Product ID</th>\n",
       "      <th>Type</th>\n",
       "      <th>Air temperature [K]</th>\n",
       "      <th>Process temperature [K]</th>\n",
       "      <th>Rotational speed [rpm]</th>\n",
       "      <th>Torque [Nm]</th>\n",
       "      <th>Tool wear [min]</th>\n",
       "      <th>TWF</th>\n",
       "      <th>HDF</th>\n",
       "      <th>PWF</th>\n",
       "      <th>OSF</th>\n",
       "      <th>RNF</th>\n",
       "    </tr>\n",
       "    <tr>\n",
       "      <th>id</th>\n",
       "      <th></th>\n",
       "      <th></th>\n",
       "      <th></th>\n",
       "      <th></th>\n",
       "      <th></th>\n",
       "      <th></th>\n",
       "      <th></th>\n",
       "      <th></th>\n",
       "      <th></th>\n",
       "      <th></th>\n",
       "      <th></th>\n",
       "      <th></th>\n",
       "    </tr>\n",
       "  </thead>\n",
       "  <tbody>\n",
       "    <tr>\n",
       "      <th>0</th>\n",
       "      <td>M14860</td>\n",
       "      <td>M</td>\n",
       "      <td>298.1</td>\n",
       "      <td>308.6</td>\n",
       "      <td>1551</td>\n",
       "      <td>42.8</td>\n",
       "      <td>0</td>\n",
       "      <td>0</td>\n",
       "      <td>0</td>\n",
       "      <td>0</td>\n",
       "      <td>0</td>\n",
       "      <td>0</td>\n",
       "    </tr>\n",
       "    <tr>\n",
       "      <th>1</th>\n",
       "      <td>L47181</td>\n",
       "      <td>L</td>\n",
       "      <td>298.2</td>\n",
       "      <td>308.7</td>\n",
       "      <td>1408</td>\n",
       "      <td>46.3</td>\n",
       "      <td>3</td>\n",
       "      <td>0</td>\n",
       "      <td>0</td>\n",
       "      <td>0</td>\n",
       "      <td>0</td>\n",
       "      <td>0</td>\n",
       "    </tr>\n",
       "    <tr>\n",
       "      <th>2</th>\n",
       "      <td>L47182</td>\n",
       "      <td>L</td>\n",
       "      <td>298.1</td>\n",
       "      <td>308.5</td>\n",
       "      <td>1498</td>\n",
       "      <td>49.4</td>\n",
       "      <td>5</td>\n",
       "      <td>0</td>\n",
       "      <td>0</td>\n",
       "      <td>0</td>\n",
       "      <td>0</td>\n",
       "      <td>0</td>\n",
       "    </tr>\n",
       "    <tr>\n",
       "      <th>3</th>\n",
       "      <td>L47183</td>\n",
       "      <td>L</td>\n",
       "      <td>298.2</td>\n",
       "      <td>308.6</td>\n",
       "      <td>1433</td>\n",
       "      <td>39.5</td>\n",
       "      <td>7</td>\n",
       "      <td>0</td>\n",
       "      <td>0</td>\n",
       "      <td>0</td>\n",
       "      <td>0</td>\n",
       "      <td>0</td>\n",
       "    </tr>\n",
       "    <tr>\n",
       "      <th>4</th>\n",
       "      <td>L47184</td>\n",
       "      <td>L</td>\n",
       "      <td>298.2</td>\n",
       "      <td>308.7</td>\n",
       "      <td>1408</td>\n",
       "      <td>40.0</td>\n",
       "      <td>9</td>\n",
       "      <td>0</td>\n",
       "      <td>0</td>\n",
       "      <td>0</td>\n",
       "      <td>0</td>\n",
       "      <td>0</td>\n",
       "    </tr>\n",
       "  </tbody>\n",
       "</table>\n",
       "</div>"
      ]
     },
     "execution_count": 3,
     "metadata": {},
     "output_type": "execute_result"
    }
   ],
   "execution_count": 3
  },
  {
   "cell_type": "code",
   "source": [
    "df.info()"
   ],
   "metadata": {
    "collapsed": false,
    "ExecuteTime": {
     "end_time": "2024-04-13T02:13:38.612131Z",
     "start_time": "2024-04-13T02:13:38.597683Z"
    }
   },
   "id": "fac534905000ddaa",
   "outputs": [
    {
     "name": "stdout",
     "output_type": "stream",
     "text": [
      "<class 'pandas.core.frame.DataFrame'>\n",
      "Index: 136429 entries, 0 to 136428\n",
      "Data columns (total 13 columns):\n",
      " #   Column                   Non-Null Count   Dtype  \n",
      "---  ------                   --------------   -----  \n",
      " 0   Product ID               136429 non-null  object \n",
      " 1   Type                     136429 non-null  object \n",
      " 2   Air temperature [K]      136429 non-null  float64\n",
      " 3   Process temperature [K]  136429 non-null  float64\n",
      " 4   Rotational speed [rpm]   136429 non-null  int64  \n",
      " 5   Torque [Nm]              136429 non-null  float64\n",
      " 6   Tool wear [min]          136429 non-null  int64  \n",
      " 7   Machine failure          136429 non-null  int64  \n",
      " 8   TWF                      136429 non-null  int64  \n",
      " 9   HDF                      136429 non-null  int64  \n",
      " 10  PWF                      136429 non-null  int64  \n",
      " 11  OSF                      136429 non-null  int64  \n",
      " 12  RNF                      136429 non-null  int64  \n",
      "dtypes: float64(3), int64(8), object(2)\n",
      "memory usage: 14.6+ MB\n"
     ]
    }
   ],
   "execution_count": 4
  },
  {
   "cell_type": "code",
   "source": [
    "df.shape"
   ],
   "metadata": {
    "collapsed": false,
    "ExecuteTime": {
     "end_time": "2024-04-13T02:13:39.524450Z",
     "start_time": "2024-04-13T02:13:39.521982Z"
    }
   },
   "id": "bf50d13f3ceb5f39",
   "outputs": [
    {
     "data": {
      "text/plain": [
       "(136429, 13)"
      ]
     },
     "execution_count": 5,
     "metadata": {},
     "output_type": "execute_result"
    }
   ],
   "execution_count": 5
  },
  {
   "cell_type": "markdown",
   "source": [
    "The dataset has 136429 rows and 14 columns and 1 target column."
   ],
   "metadata": {
    "collapsed": false
   },
   "id": "c40bd38a4786d64a"
  },
  {
   "cell_type": "code",
   "source": [
    "df.describe().T"
   ],
   "metadata": {
    "collapsed": false,
    "ExecuteTime": {
     "end_time": "2024-04-13T02:13:40.715986Z",
     "start_time": "2024-04-13T02:13:40.670829Z"
    }
   },
   "id": "83e82f49556547df",
   "outputs": [
    {
     "data": {
      "text/plain": [
       "                            count         mean         std     min     25%  \\\n",
       "Air temperature [K]      136429.0   299.862776    1.862247   295.3   298.3   \n",
       "Process temperature [K]  136429.0   309.941070    1.385173   305.8   308.7   \n",
       "Rotational speed [rpm]   136429.0  1520.331110  138.736632  1181.0  1432.0   \n",
       "Torque [Nm]              136429.0    40.348643    8.502229     3.8    34.6   \n",
       "Tool wear [min]          136429.0   104.408901   63.965040     0.0    48.0   \n",
       "Machine failure          136429.0     0.015744    0.124486     0.0     0.0   \n",
       "TWF                      136429.0     0.001554    0.039389     0.0     0.0   \n",
       "HDF                      136429.0     0.005160    0.071649     0.0     0.0   \n",
       "PWF                      136429.0     0.002397    0.048899     0.0     0.0   \n",
       "OSF                      136429.0     0.003958    0.062789     0.0     0.0   \n",
       "RNF                      136429.0     0.002258    0.047461     0.0     0.0   \n",
       "\n",
       "                            50%     75%     max  \n",
       "Air temperature [K]       300.0   301.2   304.4  \n",
       "Process temperature [K]   310.0   310.9   313.8  \n",
       "Rotational speed [rpm]   1493.0  1580.0  2886.0  \n",
       "Torque [Nm]                40.4    46.1    76.6  \n",
       "Tool wear [min]           106.0   159.0   253.0  \n",
       "Machine failure             0.0     0.0     1.0  \n",
       "TWF                         0.0     0.0     1.0  \n",
       "HDF                         0.0     0.0     1.0  \n",
       "PWF                         0.0     0.0     1.0  \n",
       "OSF                         0.0     0.0     1.0  \n",
       "RNF                         0.0     0.0     1.0  "
      ],
      "text/html": [
       "<div>\n",
       "<style scoped>\n",
       "    .dataframe tbody tr th:only-of-type {\n",
       "        vertical-align: middle;\n",
       "    }\n",
       "\n",
       "    .dataframe tbody tr th {\n",
       "        vertical-align: top;\n",
       "    }\n",
       "\n",
       "    .dataframe thead th {\n",
       "        text-align: right;\n",
       "    }\n",
       "</style>\n",
       "<table border=\"1\" class=\"dataframe\">\n",
       "  <thead>\n",
       "    <tr style=\"text-align: right;\">\n",
       "      <th></th>\n",
       "      <th>count</th>\n",
       "      <th>mean</th>\n",
       "      <th>std</th>\n",
       "      <th>min</th>\n",
       "      <th>25%</th>\n",
       "      <th>50%</th>\n",
       "      <th>75%</th>\n",
       "      <th>max</th>\n",
       "    </tr>\n",
       "  </thead>\n",
       "  <tbody>\n",
       "    <tr>\n",
       "      <th>Air temperature [K]</th>\n",
       "      <td>136429.0</td>\n",
       "      <td>299.862776</td>\n",
       "      <td>1.862247</td>\n",
       "      <td>295.3</td>\n",
       "      <td>298.3</td>\n",
       "      <td>300.0</td>\n",
       "      <td>301.2</td>\n",
       "      <td>304.4</td>\n",
       "    </tr>\n",
       "    <tr>\n",
       "      <th>Process temperature [K]</th>\n",
       "      <td>136429.0</td>\n",
       "      <td>309.941070</td>\n",
       "      <td>1.385173</td>\n",
       "      <td>305.8</td>\n",
       "      <td>308.7</td>\n",
       "      <td>310.0</td>\n",
       "      <td>310.9</td>\n",
       "      <td>313.8</td>\n",
       "    </tr>\n",
       "    <tr>\n",
       "      <th>Rotational speed [rpm]</th>\n",
       "      <td>136429.0</td>\n",
       "      <td>1520.331110</td>\n",
       "      <td>138.736632</td>\n",
       "      <td>1181.0</td>\n",
       "      <td>1432.0</td>\n",
       "      <td>1493.0</td>\n",
       "      <td>1580.0</td>\n",
       "      <td>2886.0</td>\n",
       "    </tr>\n",
       "    <tr>\n",
       "      <th>Torque [Nm]</th>\n",
       "      <td>136429.0</td>\n",
       "      <td>40.348643</td>\n",
       "      <td>8.502229</td>\n",
       "      <td>3.8</td>\n",
       "      <td>34.6</td>\n",
       "      <td>40.4</td>\n",
       "      <td>46.1</td>\n",
       "      <td>76.6</td>\n",
       "    </tr>\n",
       "    <tr>\n",
       "      <th>Tool wear [min]</th>\n",
       "      <td>136429.0</td>\n",
       "      <td>104.408901</td>\n",
       "      <td>63.965040</td>\n",
       "      <td>0.0</td>\n",
       "      <td>48.0</td>\n",
       "      <td>106.0</td>\n",
       "      <td>159.0</td>\n",
       "      <td>253.0</td>\n",
       "    </tr>\n",
       "    <tr>\n",
       "      <th>Machine failure</th>\n",
       "      <td>136429.0</td>\n",
       "      <td>0.015744</td>\n",
       "      <td>0.124486</td>\n",
       "      <td>0.0</td>\n",
       "      <td>0.0</td>\n",
       "      <td>0.0</td>\n",
       "      <td>0.0</td>\n",
       "      <td>1.0</td>\n",
       "    </tr>\n",
       "    <tr>\n",
       "      <th>TWF</th>\n",
       "      <td>136429.0</td>\n",
       "      <td>0.001554</td>\n",
       "      <td>0.039389</td>\n",
       "      <td>0.0</td>\n",
       "      <td>0.0</td>\n",
       "      <td>0.0</td>\n",
       "      <td>0.0</td>\n",
       "      <td>1.0</td>\n",
       "    </tr>\n",
       "    <tr>\n",
       "      <th>HDF</th>\n",
       "      <td>136429.0</td>\n",
       "      <td>0.005160</td>\n",
       "      <td>0.071649</td>\n",
       "      <td>0.0</td>\n",
       "      <td>0.0</td>\n",
       "      <td>0.0</td>\n",
       "      <td>0.0</td>\n",
       "      <td>1.0</td>\n",
       "    </tr>\n",
       "    <tr>\n",
       "      <th>PWF</th>\n",
       "      <td>136429.0</td>\n",
       "      <td>0.002397</td>\n",
       "      <td>0.048899</td>\n",
       "      <td>0.0</td>\n",
       "      <td>0.0</td>\n",
       "      <td>0.0</td>\n",
       "      <td>0.0</td>\n",
       "      <td>1.0</td>\n",
       "    </tr>\n",
       "    <tr>\n",
       "      <th>OSF</th>\n",
       "      <td>136429.0</td>\n",
       "      <td>0.003958</td>\n",
       "      <td>0.062789</td>\n",
       "      <td>0.0</td>\n",
       "      <td>0.0</td>\n",
       "      <td>0.0</td>\n",
       "      <td>0.0</td>\n",
       "      <td>1.0</td>\n",
       "    </tr>\n",
       "    <tr>\n",
       "      <th>RNF</th>\n",
       "      <td>136429.0</td>\n",
       "      <td>0.002258</td>\n",
       "      <td>0.047461</td>\n",
       "      <td>0.0</td>\n",
       "      <td>0.0</td>\n",
       "      <td>0.0</td>\n",
       "      <td>0.0</td>\n",
       "      <td>1.0</td>\n",
       "    </tr>\n",
       "  </tbody>\n",
       "</table>\n",
       "</div>"
      ]
     },
     "execution_count": 6,
     "metadata": {},
     "output_type": "execute_result"
    }
   ],
   "execution_count": 6
  },
  {
   "cell_type": "code",
   "source": [
    "df.isnull().sum()"
   ],
   "metadata": {
    "collapsed": false,
    "ExecuteTime": {
     "end_time": "2024-04-13T02:13:41.497474Z",
     "start_time": "2024-04-13T02:13:41.487735Z"
    }
   },
   "id": "7489886da02c9c50",
   "outputs": [
    {
     "data": {
      "text/plain": [
       "Product ID                 0\n",
       "Type                       0\n",
       "Air temperature [K]        0\n",
       "Process temperature [K]    0\n",
       "Rotational speed [rpm]     0\n",
       "Torque [Nm]                0\n",
       "Tool wear [min]            0\n",
       "Machine failure            0\n",
       "TWF                        0\n",
       "HDF                        0\n",
       "PWF                        0\n",
       "OSF                        0\n",
       "RNF                        0\n",
       "dtype: int64"
      ]
     },
     "execution_count": 7,
     "metadata": {},
     "output_type": "execute_result"
    }
   ],
   "execution_count": 7
  },
  {
   "metadata": {
    "ExecuteTime": {
     "end_time": "2024-04-13T02:13:42.159819Z",
     "start_time": "2024-04-13T02:13:42.155286Z"
    }
   },
   "cell_type": "code",
   "source": "test.isnull().sum()",
   "id": "dd7f1d74e2c545a1",
   "outputs": [
    {
     "data": {
      "text/plain": [
       "Product ID                 0\n",
       "Type                       0\n",
       "Air temperature [K]        0\n",
       "Process temperature [K]    0\n",
       "Rotational speed [rpm]     0\n",
       "Torque [Nm]                0\n",
       "Tool wear [min]            0\n",
       "TWF                        0\n",
       "HDF                        0\n",
       "PWF                        0\n",
       "OSF                        0\n",
       "RNF                        0\n",
       "dtype: int64"
      ]
     },
     "execution_count": 8,
     "metadata": {},
     "output_type": "execute_result"
    }
   ],
   "execution_count": 8
  },
  {
   "cell_type": "code",
   "source": [
    "df['Machine failure'].value_counts()"
   ],
   "metadata": {
    "collapsed": false,
    "ExecuteTime": {
     "end_time": "2024-04-13T02:13:42.984095Z",
     "start_time": "2024-04-13T02:13:42.979129Z"
    }
   },
   "id": "121ccc97664048fc",
   "outputs": [
    {
     "data": {
      "text/plain": [
       "Machine failure\n",
       "0    134281\n",
       "1      2148\n",
       "Name: count, dtype: int64"
      ]
     },
     "execution_count": 9,
     "metadata": {},
     "output_type": "execute_result"
    }
   ],
   "execution_count": 9
  },
  {
   "cell_type": "code",
   "source": [
    "df['Machine failure'].value_counts(normalize=True)"
   ],
   "metadata": {
    "collapsed": false,
    "ExecuteTime": {
     "end_time": "2024-04-13T02:13:44.164382Z",
     "start_time": "2024-04-13T02:13:44.159807Z"
    }
   },
   "id": "c10877a60bc43265",
   "outputs": [
    {
     "data": {
      "text/plain": [
       "Machine failure\n",
       "0    0.984256\n",
       "1    0.015744\n",
       "Name: proportion, dtype: float64"
      ]
     },
     "execution_count": 10,
     "metadata": {},
     "output_type": "execute_result"
    }
   ],
   "execution_count": 10
  },
  {
   "cell_type": "markdown",
   "source": [
    "The data does not have any missing values.\n",
    "The target column is binary and the data is imbalanced. \n",
    "\n",
    "The imbalance is as a result of the failures being more than the non-failures.\n",
    "There are over 98% of the data that are failures and 1.5% that are non-failures."
   ],
   "metadata": {
    "collapsed": false
   },
   "id": "6848fc2306784d1"
  },
  {
   "cell_type": "code",
   "source": [
    "df['Type'].value_counts()"
   ],
   "metadata": {
    "collapsed": false,
    "ExecuteTime": {
     "end_time": "2024-04-13T02:13:46.171597Z",
     "start_time": "2024-04-13T02:13:46.165739Z"
    }
   },
   "id": "a9b52c6b42087bb2",
   "outputs": [
    {
     "data": {
      "text/plain": [
       "Type\n",
       "L    95354\n",
       "M    32152\n",
       "H     8923\n",
       "Name: count, dtype: int64"
      ]
     },
     "execution_count": 11,
     "metadata": {},
     "output_type": "execute_result"
    }
   ],
   "execution_count": 11
  },
  {
   "cell_type": "markdown",
   "source": [
    "There are only two features that are of the object data type. The features are `Product ID` and `Type`. The Product ID is a unique identifier for the product and the Type is the type of the product. We will encode the `Type` feature using the `LabelEncoder` and the `Product ID` feature will be dropped as it is a unique identifier for the product and will not be useful in the model. Before encoding the `Type` feature, we'll have to change the data type of the `Type` feature to category.\n",
    "\n",
    "We're using the `LabelEncoder` because the `Type` feature is ordinal and not nominal."
   ],
   "metadata": {
    "collapsed": false
   },
   "id": "88d4f6d4dfe03827"
  },
  {
   "metadata": {
    "ExecuteTime": {
     "end_time": "2024-04-13T02:13:48.082308Z",
     "start_time": "2024-04-13T02:13:48.063334Z"
    }
   },
   "cell_type": "code",
   "source": "df.nunique()",
   "id": "9621684a3ea296d7",
   "outputs": [
    {
     "data": {
      "text/plain": [
       "Product ID                 9976\n",
       "Type                          3\n",
       "Air temperature [K]          95\n",
       "Process temperature [K]      81\n",
       "Rotational speed [rpm]      952\n",
       "Torque [Nm]                 611\n",
       "Tool wear [min]             246\n",
       "Machine failure               2\n",
       "TWF                           2\n",
       "HDF                           2\n",
       "PWF                           2\n",
       "OSF                           2\n",
       "RNF                           2\n",
       "dtype: int64"
      ]
     },
     "execution_count": 12,
     "metadata": {},
     "output_type": "execute_result"
    }
   ],
   "execution_count": 12
  },
  {
   "cell_type": "code",
   "source": [
    "# Changing datatypes\n",
    "df['Type'] = df['Type'].astype('category')\n",
    "df['Machine failure'] = df['Machine failure'].astype('category')\n",
    "df['TWF'] = df['TWF'].astype('category')\n",
    "df['HDF'] = df['HDF'].astype('category')\n",
    "df['PWF'] = df['PWF'].astype('category')\n",
    "df['OSF'] = df['OSF'].astype('category')\n",
    "df['RNF'] = df['RNF'].astype('category')\n",
    "\n",
    "test['Type'] = test['Type'].astype('category')\n",
    "test['TWF'] = test['TWF'].astype('category')\n",
    "test['HDF'] = test['HDF'].astype('category')\n",
    "test['PWF'] = test['PWF'].astype('category')\n",
    "test['OSF'] = test['OSF'].astype('category')\n",
    "test['RNF'] = test['RNF'].astype('category')"
   ],
   "metadata": {
    "collapsed": false,
    "ExecuteTime": {
     "end_time": "2024-04-13T02:13:49.134290Z",
     "start_time": "2024-04-13T02:13:49.115950Z"
    }
   },
   "id": "9da3c7f26a883dcf",
   "outputs": [],
   "execution_count": 13
  },
  {
   "cell_type": "code",
   "source": [
    "# Removing the Product ID feature\n",
    "df.drop('Product ID', axis=1, inplace=True)\n",
    "test.drop('Product ID', axis=1, inplace=True)"
   ],
   "metadata": {
    "collapsed": false,
    "ExecuteTime": {
     "end_time": "2024-04-13T02:13:51.894474Z",
     "start_time": "2024-04-13T02:13:51.889891Z"
    }
   },
   "id": "9accd6c1d72f8c39",
   "outputs": [],
   "execution_count": 14
  },
  {
   "cell_type": "code",
   "source": [
    "df.info()"
   ],
   "metadata": {
    "collapsed": false,
    "ExecuteTime": {
     "end_time": "2024-04-13T02:13:52.559203Z",
     "start_time": "2024-04-13T02:13:52.552433Z"
    }
   },
   "id": "3adb4731c5a0dbde",
   "outputs": [
    {
     "name": "stdout",
     "output_type": "stream",
     "text": [
      "<class 'pandas.core.frame.DataFrame'>\n",
      "Index: 136429 entries, 0 to 136428\n",
      "Data columns (total 12 columns):\n",
      " #   Column                   Non-Null Count   Dtype   \n",
      "---  ------                   --------------   -----   \n",
      " 0   Type                     136429 non-null  category\n",
      " 1   Air temperature [K]      136429 non-null  float64 \n",
      " 2   Process temperature [K]  136429 non-null  float64 \n",
      " 3   Rotational speed [rpm]   136429 non-null  int64   \n",
      " 4   Torque [Nm]              136429 non-null  float64 \n",
      " 5   Tool wear [min]          136429 non-null  int64   \n",
      " 6   Machine failure          136429 non-null  category\n",
      " 7   TWF                      136429 non-null  category\n",
      " 8   HDF                      136429 non-null  category\n",
      " 9   PWF                      136429 non-null  category\n",
      " 10  OSF                      136429 non-null  category\n",
      " 11  RNF                      136429 non-null  category\n",
      "dtypes: category(7), float64(3), int64(2)\n",
      "memory usage: 7.2 MB\n"
     ]
    }
   ],
   "execution_count": 15
  },
  {
   "cell_type": "markdown",
   "source": [
    "The `Product ID` feature has been removed from the dataset and the `Type` feature has been converted to the category data type.\n",
    "We can now encode the `Type` feature using the `OrdinalEncoder`."
   ],
   "metadata": {
    "collapsed": false
   },
   "id": "419fdaeb4eb146f7"
  },
  {
   "cell_type": "code",
   "source": [
    "from sklearn.preprocessing import OrdinalEncoder"
   ],
   "metadata": {
    "collapsed": false,
    "ExecuteTime": {
     "end_time": "2024-04-13T02:13:54.831882Z",
     "start_time": "2024-04-13T02:13:54.705939Z"
    }
   },
   "id": "5b6d8e66a9a3b2e7",
   "outputs": [],
   "execution_count": 16
  },
  {
   "cell_type": "code",
   "source": [
    "ordinal_encoder = OrdinalEncoder()\n",
    "\n",
    "# Encode all the categorical types in the data frame\n",
    "for col in df.columns:\n",
    "    if df[col].dtype.name == 'category':\n",
    "        df[col] = ordinal_encoder.fit_transform(df[col].values.reshape(-1, 1))\n",
    "\n",
    "df.head()"
   ],
   "metadata": {
    "collapsed": false,
    "ExecuteTime": {
     "end_time": "2024-04-13T02:13:59.867285Z",
     "start_time": "2024-04-13T02:13:59.819947Z"
    }
   },
   "id": "6e2610c53481daf2",
   "outputs": [
    {
     "data": {
      "text/plain": [
       "    Type  Air temperature [K]  Process temperature [K]  \\\n",
       "id                                                       \n",
       "0    1.0                300.6                    309.6   \n",
       "1    2.0                302.6                    312.1   \n",
       "2    1.0                299.3                    308.5   \n",
       "3    1.0                301.0                    310.9   \n",
       "4    2.0                298.0                    309.0   \n",
       "\n",
       "    Rotational speed [rpm]  Torque [Nm]  Tool wear [min]  Machine failure  \\\n",
       "id                                                                          \n",
       "0                     1596         36.1              140              0.0   \n",
       "1                     1759         29.1              200              0.0   \n",
       "2                     1805         26.5               25              0.0   \n",
       "3                     1524         44.3              197              0.0   \n",
       "4                     1641         35.4               34              0.0   \n",
       "\n",
       "    TWF  HDF  PWF  OSF  RNF  \n",
       "id                           \n",
       "0   0.0  0.0  0.0  0.0  0.0  \n",
       "1   0.0  0.0  0.0  0.0  0.0  \n",
       "2   0.0  0.0  0.0  0.0  0.0  \n",
       "3   0.0  0.0  0.0  0.0  0.0  \n",
       "4   0.0  0.0  0.0  0.0  0.0  "
      ],
      "text/html": [
       "<div>\n",
       "<style scoped>\n",
       "    .dataframe tbody tr th:only-of-type {\n",
       "        vertical-align: middle;\n",
       "    }\n",
       "\n",
       "    .dataframe tbody tr th {\n",
       "        vertical-align: top;\n",
       "    }\n",
       "\n",
       "    .dataframe thead th {\n",
       "        text-align: right;\n",
       "    }\n",
       "</style>\n",
       "<table border=\"1\" class=\"dataframe\">\n",
       "  <thead>\n",
       "    <tr style=\"text-align: right;\">\n",
       "      <th></th>\n",
       "      <th>Type</th>\n",
       "      <th>Air temperature [K]</th>\n",
       "      <th>Process temperature [K]</th>\n",
       "      <th>Rotational speed [rpm]</th>\n",
       "      <th>Torque [Nm]</th>\n",
       "      <th>Tool wear [min]</th>\n",
       "      <th>Machine failure</th>\n",
       "      <th>TWF</th>\n",
       "      <th>HDF</th>\n",
       "      <th>PWF</th>\n",
       "      <th>OSF</th>\n",
       "      <th>RNF</th>\n",
       "    </tr>\n",
       "    <tr>\n",
       "      <th>id</th>\n",
       "      <th></th>\n",
       "      <th></th>\n",
       "      <th></th>\n",
       "      <th></th>\n",
       "      <th></th>\n",
       "      <th></th>\n",
       "      <th></th>\n",
       "      <th></th>\n",
       "      <th></th>\n",
       "      <th></th>\n",
       "      <th></th>\n",
       "      <th></th>\n",
       "    </tr>\n",
       "  </thead>\n",
       "  <tbody>\n",
       "    <tr>\n",
       "      <th>0</th>\n",
       "      <td>1.0</td>\n",
       "      <td>300.6</td>\n",
       "      <td>309.6</td>\n",
       "      <td>1596</td>\n",
       "      <td>36.1</td>\n",
       "      <td>140</td>\n",
       "      <td>0.0</td>\n",
       "      <td>0.0</td>\n",
       "      <td>0.0</td>\n",
       "      <td>0.0</td>\n",
       "      <td>0.0</td>\n",
       "      <td>0.0</td>\n",
       "    </tr>\n",
       "    <tr>\n",
       "      <th>1</th>\n",
       "      <td>2.0</td>\n",
       "      <td>302.6</td>\n",
       "      <td>312.1</td>\n",
       "      <td>1759</td>\n",
       "      <td>29.1</td>\n",
       "      <td>200</td>\n",
       "      <td>0.0</td>\n",
       "      <td>0.0</td>\n",
       "      <td>0.0</td>\n",
       "      <td>0.0</td>\n",
       "      <td>0.0</td>\n",
       "      <td>0.0</td>\n",
       "    </tr>\n",
       "    <tr>\n",
       "      <th>2</th>\n",
       "      <td>1.0</td>\n",
       "      <td>299.3</td>\n",
       "      <td>308.5</td>\n",
       "      <td>1805</td>\n",
       "      <td>26.5</td>\n",
       "      <td>25</td>\n",
       "      <td>0.0</td>\n",
       "      <td>0.0</td>\n",
       "      <td>0.0</td>\n",
       "      <td>0.0</td>\n",
       "      <td>0.0</td>\n",
       "      <td>0.0</td>\n",
       "    </tr>\n",
       "    <tr>\n",
       "      <th>3</th>\n",
       "      <td>1.0</td>\n",
       "      <td>301.0</td>\n",
       "      <td>310.9</td>\n",
       "      <td>1524</td>\n",
       "      <td>44.3</td>\n",
       "      <td>197</td>\n",
       "      <td>0.0</td>\n",
       "      <td>0.0</td>\n",
       "      <td>0.0</td>\n",
       "      <td>0.0</td>\n",
       "      <td>0.0</td>\n",
       "      <td>0.0</td>\n",
       "    </tr>\n",
       "    <tr>\n",
       "      <th>4</th>\n",
       "      <td>2.0</td>\n",
       "      <td>298.0</td>\n",
       "      <td>309.0</td>\n",
       "      <td>1641</td>\n",
       "      <td>35.4</td>\n",
       "      <td>34</td>\n",
       "      <td>0.0</td>\n",
       "      <td>0.0</td>\n",
       "      <td>0.0</td>\n",
       "      <td>0.0</td>\n",
       "      <td>0.0</td>\n",
       "      <td>0.0</td>\n",
       "    </tr>\n",
       "  </tbody>\n",
       "</table>\n",
       "</div>"
      ]
     },
     "execution_count": 17,
     "metadata": {},
     "output_type": "execute_result"
    }
   ],
   "execution_count": 17
  },
  {
   "metadata": {
    "ExecuteTime": {
     "end_time": "2024-04-13T02:14:01.967517Z",
     "start_time": "2024-04-13T02:14:01.956526Z"
    }
   },
   "cell_type": "code",
   "source": [
    "# Encode all the categorical types in the test data frame\n",
    "for col in test.columns:\n",
    "    if test[col].dtype.name == 'category':\n",
    "        test[col] = ordinal_encoder.fit_transform(test[col].values.reshape(-1, 1))\n",
    "\n",
    "test.head()"
   ],
   "id": "1d086f87df1f5423",
   "outputs": [
    {
     "data": {
      "text/plain": [
       "    Type  Air temperature [K]  Process temperature [K]  \\\n",
       "id                                                       \n",
       "0    2.0                298.1                    308.6   \n",
       "1    1.0                298.2                    308.7   \n",
       "2    1.0                298.1                    308.5   \n",
       "3    1.0                298.2                    308.6   \n",
       "4    1.0                298.2                    308.7   \n",
       "\n",
       "    Rotational speed [rpm]  Torque [Nm]  Tool wear [min]  TWF  HDF  PWF  OSF  \\\n",
       "id                                                                             \n",
       "0                     1551         42.8                0  0.0  0.0  0.0  0.0   \n",
       "1                     1408         46.3                3  0.0  0.0  0.0  0.0   \n",
       "2                     1498         49.4                5  0.0  0.0  0.0  0.0   \n",
       "3                     1433         39.5                7  0.0  0.0  0.0  0.0   \n",
       "4                     1408         40.0                9  0.0  0.0  0.0  0.0   \n",
       "\n",
       "    RNF  \n",
       "id       \n",
       "0   0.0  \n",
       "1   0.0  \n",
       "2   0.0  \n",
       "3   0.0  \n",
       "4   0.0  "
      ],
      "text/html": [
       "<div>\n",
       "<style scoped>\n",
       "    .dataframe tbody tr th:only-of-type {\n",
       "        vertical-align: middle;\n",
       "    }\n",
       "\n",
       "    .dataframe tbody tr th {\n",
       "        vertical-align: top;\n",
       "    }\n",
       "\n",
       "    .dataframe thead th {\n",
       "        text-align: right;\n",
       "    }\n",
       "</style>\n",
       "<table border=\"1\" class=\"dataframe\">\n",
       "  <thead>\n",
       "    <tr style=\"text-align: right;\">\n",
       "      <th></th>\n",
       "      <th>Type</th>\n",
       "      <th>Air temperature [K]</th>\n",
       "      <th>Process temperature [K]</th>\n",
       "      <th>Rotational speed [rpm]</th>\n",
       "      <th>Torque [Nm]</th>\n",
       "      <th>Tool wear [min]</th>\n",
       "      <th>TWF</th>\n",
       "      <th>HDF</th>\n",
       "      <th>PWF</th>\n",
       "      <th>OSF</th>\n",
       "      <th>RNF</th>\n",
       "    </tr>\n",
       "    <tr>\n",
       "      <th>id</th>\n",
       "      <th></th>\n",
       "      <th></th>\n",
       "      <th></th>\n",
       "      <th></th>\n",
       "      <th></th>\n",
       "      <th></th>\n",
       "      <th></th>\n",
       "      <th></th>\n",
       "      <th></th>\n",
       "      <th></th>\n",
       "      <th></th>\n",
       "    </tr>\n",
       "  </thead>\n",
       "  <tbody>\n",
       "    <tr>\n",
       "      <th>0</th>\n",
       "      <td>2.0</td>\n",
       "      <td>298.1</td>\n",
       "      <td>308.6</td>\n",
       "      <td>1551</td>\n",
       "      <td>42.8</td>\n",
       "      <td>0</td>\n",
       "      <td>0.0</td>\n",
       "      <td>0.0</td>\n",
       "      <td>0.0</td>\n",
       "      <td>0.0</td>\n",
       "      <td>0.0</td>\n",
       "    </tr>\n",
       "    <tr>\n",
       "      <th>1</th>\n",
       "      <td>1.0</td>\n",
       "      <td>298.2</td>\n",
       "      <td>308.7</td>\n",
       "      <td>1408</td>\n",
       "      <td>46.3</td>\n",
       "      <td>3</td>\n",
       "      <td>0.0</td>\n",
       "      <td>0.0</td>\n",
       "      <td>0.0</td>\n",
       "      <td>0.0</td>\n",
       "      <td>0.0</td>\n",
       "    </tr>\n",
       "    <tr>\n",
       "      <th>2</th>\n",
       "      <td>1.0</td>\n",
       "      <td>298.1</td>\n",
       "      <td>308.5</td>\n",
       "      <td>1498</td>\n",
       "      <td>49.4</td>\n",
       "      <td>5</td>\n",
       "      <td>0.0</td>\n",
       "      <td>0.0</td>\n",
       "      <td>0.0</td>\n",
       "      <td>0.0</td>\n",
       "      <td>0.0</td>\n",
       "    </tr>\n",
       "    <tr>\n",
       "      <th>3</th>\n",
       "      <td>1.0</td>\n",
       "      <td>298.2</td>\n",
       "      <td>308.6</td>\n",
       "      <td>1433</td>\n",
       "      <td>39.5</td>\n",
       "      <td>7</td>\n",
       "      <td>0.0</td>\n",
       "      <td>0.0</td>\n",
       "      <td>0.0</td>\n",
       "      <td>0.0</td>\n",
       "      <td>0.0</td>\n",
       "    </tr>\n",
       "    <tr>\n",
       "      <th>4</th>\n",
       "      <td>1.0</td>\n",
       "      <td>298.2</td>\n",
       "      <td>308.7</td>\n",
       "      <td>1408</td>\n",
       "      <td>40.0</td>\n",
       "      <td>9</td>\n",
       "      <td>0.0</td>\n",
       "      <td>0.0</td>\n",
       "      <td>0.0</td>\n",
       "      <td>0.0</td>\n",
       "      <td>0.0</td>\n",
       "    </tr>\n",
       "  </tbody>\n",
       "</table>\n",
       "</div>"
      ]
     },
     "execution_count": 18,
     "metadata": {},
     "output_type": "execute_result"
    }
   ],
   "execution_count": 18
  },
  {
   "cell_type": "markdown",
   "source": [
    "The ordinal encoder has encoded the `Type` feature as follows:\n",
    "- 0: H\n",
    "- 1: L\n",
    "- 2: M"
   ],
   "metadata": {
    "collapsed": false
   },
   "id": "2b516a0ecb20971b"
  },
  {
   "cell_type": "code",
   "source": [
    "# df.drop('id', axis=1, inplace=True)\n",
    "# test.drop('id', axis=1, inplace=True)"
   ],
   "metadata": {
    "collapsed": false,
    "ExecuteTime": {
     "end_time": "2024-04-13T02:14:17.254488Z",
     "start_time": "2024-04-13T02:14:17.252252Z"
    }
   },
   "id": "cc3b8a2d7aeef82d",
   "outputs": [],
   "execution_count": 19
  },
  {
   "cell_type": "markdown",
   "source": [
    "## Exploratory Data Analysis"
   ],
   "metadata": {
    "collapsed": false
   },
   "id": "53fdd592e4769192"
  },
  {
   "cell_type": "code",
   "source": [
    "# Importing the necessary libraries\n",
    "import matplotlib.pyplot as plt\n",
    "import seaborn as sns"
   ],
   "metadata": {
    "collapsed": false,
    "ExecuteTime": {
     "end_time": "2024-04-13T02:14:18.147057Z",
     "start_time": "2024-04-13T02:14:18.145195Z"
    }
   },
   "id": "2df7a6660e1e84a3",
   "outputs": [],
   "execution_count": 20
  },
  {
   "cell_type": "code",
   "source": [
    "plt.figure(figsize=(10, 6))\n",
    "sns.countplot(x=df['Machine failure'], palette='viridis', hue=df['Machine failure'], legend=False)\n",
    "plt.title('Distribution of the Target Column')\n",
    "\n",
    "plt.show()"
   ],
   "metadata": {
    "collapsed": false,
    "ExecuteTime": {
     "end_time": "2024-04-13T02:14:19.171726Z",
     "start_time": "2024-04-13T02:14:18.928248Z"
    }
   },
   "id": "668f0bac694859b1",
   "outputs": [
    {
     "data": {
      "text/plain": [
       "<Figure size 1000x600 with 1 Axes>"
      ],
      "image/png": "[encoded data removed]"
     },
     "metadata": {},
     "output_type": "display_data"
    }
   ],
   "execution_count": 21
  },
  {
   "cell_type": "code",
   "source": [
    "# Checking the distribution of the features\n",
    "df.hist(bins=20, figsize=(20, 20), column=['Type', 'Air temperature [K]', 'Process temperature [K]', 'Rotational speed [rpm]', 'Torque [Nm]', 'Tool wear [min]'])"
   ],
   "metadata": {
    "collapsed": false,
    "ExecuteTime": {
     "end_time": "2024-04-13T02:14:21.480309Z",
     "start_time": "2024-04-13T02:14:20.768781Z"
    }
   },
   "id": "da405307a1bc86ac",
   "outputs": [
    {
     "data": {
      "text/plain": [
       "array([[<Axes: title={'center': 'Type'}>,\n",
       "        <Axes: title={'center': 'Air temperature [K]'}>],\n",
       "       [<Axes: title={'center': 'Process temperature [K]'}>,\n",
       "        <Axes: title={'center': 'Rotational speed [rpm]'}>],\n",
       "       [<Axes: title={'center': 'Torque [Nm]'}>,\n",
       "        <Axes: title={'center': 'Tool wear [min]'}>]], dtype=object)"
      ]
     },
     "execution_count": 22,
     "metadata": {},
     "output_type": "execute_result"
    },
    {
     "data": {
      "text/plain": [
       "<Figure size 2000x2000 with 6 Axes>"
      ],
      "image/png": "[encoded data removed]"
     },
     "metadata": {},
     "output_type": "display_data"
    }
   ],
   "execution_count": 22
  },
  {
   "cell_type": "code",
   "source": [
    "# barchart of percentages of type, machine failure, twf, hdf, pwf, osf, and rnf\n",
    "\n",
    "# df_percentages = df.apply(lambda x: (x / x.sum()) * 100, axis=0)\n",
    "# df_percentages = df_percentages[['Type', 'Machine failure', 'TWF', 'HDF', 'PWF', 'OSF', 'RNF']]\n",
    "# \n",
    "# plt.figure(figsize=(15, 10))\n",
    "# df_percentages.plot(kind='bar', stacked=True, figsize=(15, 10), colormap='viridis')\n",
    "# plt.title('Percentage Distribution of Type, Machine failure, TWF, HDF, PWF, OSF, and RNF')\n",
    "# plt.show()"
   ],
   "metadata": {
    "collapsed": false,
    "ExecuteTime": {
     "end_time": "2024-04-13T02:14:31.516552Z",
     "start_time": "2024-04-13T02:14:31.514672Z"
    }
   },
   "id": "feb8358876869625",
   "outputs": [],
   "execution_count": 23
  },
  {
   "cell_type": "code",
   "source": [
    "plt.figure(figsize=(15, 15))\n",
    "sns.heatmap(df.corr(), annot=True, cmap='viridis')\n",
    "plt.title('Correlation Heatmap')\n",
    "plt.show()"
   ],
   "metadata": {
    "collapsed": false,
    "ExecuteTime": {
     "end_time": "2024-04-13T02:14:33.259644Z",
     "start_time": "2024-04-13T02:14:32.877170Z"
    }
   },
   "id": "a487b8f7a76f1092",
   "outputs": [
    {
     "data": {
      "text/plain": [
       "<Figure size 1500x1500 with 2 Axes>"
      ],
      "image/png": "[encoded data removed]"
     },
     "metadata": {},
     "output_type": "display_data"
    }
   ],
   "execution_count": 24
  },
  {
   "cell_type": "code",
   "source": "df.corr()['Machine failure'].sort_values(ascending=False)",
   "metadata": {
    "collapsed": false,
    "ExecuteTime": {
     "end_time": "2024-04-13T02:14:36.441430Z",
     "start_time": "2024-04-13T02:14:36.402617Z"
    }
   },
   "id": "bcf6b6302deb5f7e",
   "outputs": [
    {
     "data": {
      "text/plain": [
       "Machine failure            1.000000\n",
       "HDF                        0.564507\n",
       "OSF                        0.494668\n",
       "PWF                        0.383941\n",
       "TWF                        0.311919\n",
       "Torque [Nm]                0.145793\n",
       "Air temperature [K]        0.067744\n",
       "Tool wear [min]            0.056448\n",
       "Process temperature [K]    0.030966\n",
       "RNF                        0.001428\n",
       "Type                      -0.005049\n",
       "Rotational speed [rpm]    -0.060868\n",
       "Name: Machine failure, dtype: float64"
      ]
     },
     "execution_count": 25,
     "metadata": {},
     "output_type": "execute_result"
    }
   ],
   "execution_count": 25
  },
  {
   "cell_type": "markdown",
   "source": [
    "Looking at how imbalanced the data is, we'll have to handle the imbalance in the data. Below are some of the techniques that can be used to handle the imbalance in the data\n",
    "1. Over-sampling the minority class\n",
    "2. Under-sampling the majority class\n",
    "3. Cost-sensitive learning\n",
    "4. Ensemble methods\n",
    "\n",
    "We'll use the `ADASYN` technique to handle the imbalance in the data. The `ADASYN` technique generates synthetic samples for the minority class. The `ADASYN` technique is available in the `imbalanced-learn` library."
   ],
   "metadata": {
    "collapsed": false
   },
   "id": "d2140e8cd159e87f"
  },
  {
   "cell_type": "code",
   "source": [
    "# Splitting the data into features and target\n",
    "from sklearn.preprocessing import StandardScaler\n",
    "\n",
    "X = df.drop('Machine failure', axis=1)\n",
    "y = df['Machine failure']\n",
    "\n",
    "columns = X.columns\n",
    "\n",
    "scaler = StandardScaler()\n",
    "X = scaler.fit_transform(X)"
   ],
   "metadata": {
    "collapsed": false,
    "ExecuteTime": {
     "end_time": "2024-04-13T02:14:48.183574Z",
     "start_time": "2024-04-13T02:14:48.166749Z"
    }
   },
   "id": "21f3548d5914ae52",
   "outputs": [],
   "execution_count": 26
  },
  {
   "cell_type": "code",
   "source": [
    "from imblearn.over_sampling import ADASYN\n",
    "\n",
    "# Instantiating the ADASYN class\n",
    "adasyn = ADASYN(random_state=42, n_neighbors=11)\n",
    "\n",
    "# Fitting the ADASYN class to the data\n",
    "X_resampled, y_resampled = adasyn.fit_resample(X, y)\n",
    "\n",
    "# Converting the resampled data to a DataFrame\n",
    "X_resampled = pd.DataFrame(X_resampled, columns=columns)\n",
    "y_resampled = pd.Series(y_resampled, name='Machine failure')\n",
    "\n",
    "# Checking the resampled data\n",
    "y_resampled.value_counts(normalize=True)"
   ],
   "metadata": {
    "collapsed": false,
    "ExecuteTime": {
     "end_time": "2024-04-13T02:14:49.545202Z",
     "start_time": "2024-04-13T02:14:48.673145Z"
    }
   },
   "id": "15713d8c3eefdb70",
   "outputs": [
    {
     "data": {
      "text/plain": [
       "Machine failure\n",
       "0.0    0.500093\n",
       "1.0    0.499907\n",
       "Name: proportion, dtype: float64"
      ]
     },
     "execution_count": 27,
     "metadata": {},
     "output_type": "execute_result"
    }
   ],
   "execution_count": 27
  },
  {
   "metadata": {
    "jupyter": {
     "is_executing": true
    },
    "ExecuteTime": {
     "start_time": "2024-04-13T02:14:51.725648Z"
    }
   },
   "cell_type": "code",
   "source": [
    "# plot the y_resampled by grouping it onto 0s and 1s\n",
    "plt.figure(figsize=(10, 6))\n",
    "sns.countplot(y_resampled)\n",
    "plt.title('Distribution of the Target Column after Resampling')\n",
    "plt.show()"
   ],
   "id": "aee860ad7c633dc9",
   "outputs": [],
   "execution_count": null
  },
  {
   "cell_type": "markdown",
   "source": [
    "We can see that the data is now balanced after using the `ADASYN` technique to handle the imbalance in the data.\n",
    "We can now proceed to split the data into features and target and then split the data into train and test datasets.\n",
    "We'll use the `train_test_split` function from the `sklearn.model_selection` module to split the data into train and test datasets.\n",
    "80% of the data will be used for training and 20% for testing.\n",
    "The `random_state` parameter will be set to 42 to ensure that the split is reproducible."
   ],
   "metadata": {
    "collapsed": false
   },
   "id": "1e0f839e74f3a72e"
  },
  {
   "cell_type": "code",
   "source": [
    "# Importing the train_test_split function\n",
    "from sklearn.model_selection import train_test_split"
   ],
   "metadata": {
    "collapsed": false
   },
   "id": "d48cf8df37132deb",
   "outputs": [],
   "execution_count": null
  },
  {
   "cell_type": "code",
   "source": [
    "# Splitting the data into features and target\n",
    "X_train, X_test, y_train, y_test = train_test_split(X_resampled, y_resampled, test_size=0.2, random_state=42)"
   ],
   "metadata": {
    "collapsed": false
   },
   "id": "1476ca2f5dc23983",
   "outputs": [],
   "execution_count": null
  },
  {
   "cell_type": "code",
   "source": [
    "X_train.shape, X_test.shape"
   ],
   "metadata": {
    "collapsed": false
   },
   "id": "2838b69cfcdcd238",
   "outputs": [],
   "execution_count": null
  },
  {
   "cell_type": "code",
   "source": [
    "y_train.value_counts(normalize=True)"
   ],
   "metadata": {
    "collapsed": false
   },
   "id": "bac7169918c026b0",
   "outputs": [],
   "execution_count": null
  },
  {
   "cell_type": "code",
   "source": [
    "y_test.value_counts(normalize=True)"
   ],
   "metadata": {
    "collapsed": false
   },
   "id": "96d68a7d04087572",
   "outputs": [],
   "execution_count": null
  },
  {
   "cell_type": "markdown",
   "source": [
    "The data has been split into train and test datasets. The data is balanced in both the train and test datasets.\n",
    "We can now proceed to build the machine learning model.\n",
    "\n",
    "We'll build three different models:\n",
    "1. Random Forest Classifier\n",
    "2. SVM Classifier\n",
    "3. Neural Network Classifier\n",
    "\n",
    "Once the models have been built, we'll evaluate the models using the `classification_report` and `confusion_matrix` metrics.\n",
    "The model with the best performance will be used to make predictions on the test dataset."
   ],
   "metadata": {
    "collapsed": false
   },
   "id": "a2db2e3fd51eff2b"
  },
  {
   "cell_type": "code",
   "source": [
    "# Importing the necessary libraries\n",
    "from sklearn.ensemble import RandomForestClassifier\n",
    "from sklearn.metrics import classification_report, confusion_matrix, accuracy_score"
   ],
   "metadata": {
    "collapsed": false
   },
   "id": "3ce97bd3bd0facdb",
   "outputs": [],
   "execution_count": null
  },
  {
   "metadata": {},
   "cell_type": "markdown",
   "source": "## Random Forest Classifier",
   "id": "2631b98965e31734"
  },
  {
   "metadata": {},
   "cell_type": "code",
   "source": [
    "# Instantiating the Random Forest Classifier\n",
    "rf = RandomForestClassifier(random_state=42, oob_score=True)\n",
    "\n",
    "# Fitting the Random Forest Classifier to the data\n",
    "rf.fit(X_train, y_train)"
   ],
   "id": "83c24fc55033774a",
   "outputs": [],
   "execution_count": null
  },
  {
   "metadata": {},
   "cell_type": "code",
   "source": "rf.feature_importances_",
   "id": "bea25fc0e635abbc",
   "outputs": [],
   "execution_count": null
  },
  {
   "metadata": {},
   "cell_type": "code",
   "source": [
    "# Plotting the feature importances\n",
    "plt.figure(figsize=(15, 10))\n",
    "plt.barh(X_train.columns, rf.feature_importances_)\n",
    "plt.title('Feature Importances')\n",
    "plt.show()"
   ],
   "id": "a49d773b89002730",
   "outputs": [],
   "execution_count": null
  },
  {
   "metadata": {},
   "cell_type": "code",
   "source": "rf.oob_score_",
   "id": "b6c4afde5eb2c79a",
   "outputs": [],
   "execution_count": null
  },
  {
   "metadata": {},
   "cell_type": "markdown",
   "source": [
    "The Random Forest Classifier has an out-of-bag score of 0.986. This means that the Random Forest Classifier is able to predict the target variable with an accuracy of 98.6%.\n",
    "\n",
    "The feature importances plot shows that the `Rorational Speed` feature is the most important feature in predicting the target variable followed by the `Torque` feature. The `RNF` feature is the least important feature in predicting the target variable."
   ],
   "id": "1d47d6854575c9c6"
  },
  {
   "metadata": {},
   "cell_type": "code",
   "source": [
    "# Making predictions on the train data\n",
    "rf_train_preds = rf.predict(X_train)\n",
    "\n",
    "# Evaluating the Random Forest Classifier\n",
    "print(classification_report(y_train, rf_train_preds))\n"
   ],
   "id": "61b76d2c2b81c40",
   "outputs": [],
   "execution_count": null
  },
  {
   "metadata": {},
   "cell_type": "code",
   "source": [
    "# Making predictions on the test data\n",
    "rf_preds = rf.predict(X_test)\n",
    "\n",
    "# Evaluating the Random Forest Classifier\n",
    "print(classification_report(y_test, rf_preds))"
   ],
   "id": "4db9af5aa5bca7e1",
   "outputs": [],
   "execution_count": null
  },
  {
   "metadata": {},
   "cell_type": "code",
   "source": [
    "training_accuracy = rf.score(X_train, y_train)\n",
    "print(\"Training Accuracy:\", training_accuracy)"
   ],
   "id": "62fa6f63a468827f",
   "outputs": [],
   "execution_count": null
  },
  {
   "metadata": {},
   "cell_type": "code",
   "source": [
    "testing_accuracy = rf.score(X_test, y_test)\n",
    "print(\"Testing Accuracy:\", testing_accuracy)"
   ],
   "id": "94d40c3cb365dd25",
   "outputs": [],
   "execution_count": null
  },
  {
   "metadata": {},
   "cell_type": "markdown",
   "source": [
    "The Random Forest Classifier has an accuracy of ~ 1, a precision of 1, a recall of 1, and an F1-score of 1 for both failures and non-failures when tested on the training data.\n",
    "On the test data, the Random Forest Classifier has a precision of 0.99, a recall of 0.98, and an F1-score of 0.99 for non-failures and a precision of 0.98, a recall of 0.99, and an F1-score of 0.99 for failures.\n",
    "The results show very high accuracy (0.99), which is a good sign that the model is performing well.\n",
    "\n",
    "- Precision is the ratio of true positives to the total number of positive predictions. High precision means the model returned mostly true positives with very few false positives.\n",
    "- Recall is the ratio of true positives to the total number of actual positives. High recall means the model captured most of the true positives.\n",
    "- F1 Score is a harmonic mean of precision and recall. It’s a way to balance between high precision and high recall. "
   ],
   "id": "c25d8ba86b0844a2"
  },
  {
   "metadata": {},
   "cell_type": "markdown",
   "source": "Since `RNF`, `OSF`, `PWF` `HDF`, `TWF` have very low feature importances, we can remove them from the dataset and retrain the model to see if the model performance improves.",
   "id": "d8ddd6bda60a269"
  },
  {
   "metadata": {},
   "cell_type": "code",
   "source": [
    "# remove the features with low feature importances\n",
    "X_train.drop(['RNF', 'OSF', 'PWF', 'HDF', 'TWF'], axis=1, inplace=True)\n",
    "X_test.drop(['RNF', 'OSF', 'PWF', 'HDF', 'TWF'], axis=1, inplace=True)"
   ],
   "id": "1e355fe65e3fb465",
   "outputs": [],
   "execution_count": null
  },
  {
   "metadata": {},
   "cell_type": "code",
   "source": "X_train.shape, X_test.shape",
   "id": "2984860a13297bb3",
   "outputs": [],
   "execution_count": null
  },
  {
   "metadata": {},
   "cell_type": "code",
   "source": [
    "# retrain the model\n",
    "rf.fit(X_train, y_train)\n",
    "\n",
    "# Making predictions on the test data\n",
    "rf_preds = rf.predict(X_test)\n",
    "\n",
    "# Evaluating the Random Forest Classifier\n",
    "print(classification_report(y_test, rf_preds))"
   ],
   "id": "2bbea6dda89310f0",
   "outputs": [],
   "execution_count": null
  },
  {
   "metadata": {},
   "cell_type": "code",
   "source": [
    "# Plotting the feature importances\n",
    "plt.figure(figsize=(15, 10))\n",
    "plt.barh(X_train.columns, rf.feature_importances_)\n",
    "plt.title('Feature Importances')\n",
    "plt.show()"
   ],
   "id": "e7a5749d71e38773",
   "outputs": [],
   "execution_count": null
  },
  {
   "metadata": {},
   "cell_type": "code",
   "source": [
    "training_accuracy = rf.score(X_train, y_train)\n",
    "print(\"Training Accuracy:\", training_accuracy)"
   ],
   "id": "7c075286d0036d6a",
   "outputs": [],
   "execution_count": null
  },
  {
   "metadata": {},
   "cell_type": "code",
   "source": [
    "testing_accuracy = rf.score(X_test, y_test)\n",
    "print(\"Testing Accuracy:\", testing_accuracy)"
   ],
   "id": "b1ce9a7bddc27fc4",
   "outputs": [],
   "execution_count": null
  },
  {
   "metadata": {},
   "cell_type": "code",
   "source": "rf.oob_score_",
   "id": "c0aca33f330917e9",
   "outputs": [],
   "execution_count": null
  },
  {
   "metadata": {},
   "cell_type": "code",
   "source": "",
   "id": "bf1cec43f2a80abb",
   "outputs": [],
   "execution_count": null
  },
  {
   "metadata": {},
   "cell_type": "code",
   "source": "",
   "id": "549b4c05df9c3d88",
   "outputs": [],
   "execution_count": null
  },
  {
   "metadata": {},
   "cell_type": "code",
   "source": "",
   "id": "de9141595422254",
   "outputs": [],
   "execution_count": null
  },
  {
   "metadata": {},
   "cell_type": "code",
   "source": "",
   "id": "ee034ff2cac3f4e",
   "outputs": [],
   "execution_count": null
  },
  {
   "metadata": {},
   "cell_type": "markdown",
   "source": "## SVM Classifier",
   "id": "3da63454b8a4751c"
  },
  {
   "metadata": {},
   "cell_type": "code",
   "source": "from sklearn.svm import SVC",
   "id": "5fee9ce44d8edefd",
   "outputs": [],
   "execution_count": null
  },
  {
   "metadata": {},
   "cell_type": "code",
   "source": [
    "# Instantiating the SVM Classifier\n",
    "svc = SVC(random_state=42, kernel='linear')\n",
    "\n",
    "# Fitting the SVM Classifier to the data\n",
    "svc.fit(X_train, y_train)"
   ],
   "id": "36c0d2d37fa72a82",
   "outputs": [],
   "execution_count": null
  },
  {
   "metadata": {},
   "cell_type": "markdown",
   "source": "It is worth noting that the SVM Classifier is a computationally expensive model and may take a long time to train on large datasets. The SVM Classifier is a good model for binary classification problems and works well with high-dimensional data.",
   "id": "70b9bbb50612ca86"
  },
  {
   "metadata": {},
   "cell_type": "code",
   "source": [
    "# Making predictions on the training data\n",
    "svc_train_preds = svc.predict(X_train)\n",
    "\n",
    "# Evaluating the SVM Classifier\n",
    "print(classification_report(y_train, svc_train_preds))"
   ],
   "id": "64c9b3c3f4a622d4",
   "outputs": [],
   "execution_count": null
  },
  {
   "metadata": {},
   "cell_type": "code",
   "source": [
    "# Making predictions on the test data\n",
    "svc_preds = svc.predict(X_test)\n",
    "\n",
    "# Evaluating the SVM Classifier\n",
    "print(classification_report(y_test, svc_preds))"
   ],
   "id": "468e60cfa60eb2d7",
   "outputs": [],
   "execution_count": null
  },
  {
   "metadata": {},
   "cell_type": "code",
   "source": [
    "training_accuracy = svc.score(X_train, y_train)\n",
    "print(\"Training Accuracy:\", training_accuracy)\n",
    "\n",
    "testing_accuracy = svc.score(X_test, y_test)\n",
    "print(\"Testing Accuracy:\", testing_accuracy)"
   ],
   "id": "dedf64c97cf168a0",
   "outputs": [],
   "execution_count": null
  },
  {
   "metadata": {},
   "cell_type": "markdown",
   "source": [
    "The SVM Classifier has an accuracy of 0.81 for both the training and test set.\n",
    "For non-failures, the SVM Classifier has a precision of 0.80, a recall of 0.81, and an F1-score of 0.81. For failures, the SVM Classifier has a precision of 0.81, a recall of 0.80, and an F1-score of 0.80.\n",
    "The results show that the SVM Classifier is performing well on the test set with an accuracy of 0.81.\n",
    "\n",
    "It is also good to note that the results might also be due to overfitting of the model on the training data."
   ],
   "id": "c38d7a8c820581a"
  },
  {
   "metadata": {},
   "cell_type": "markdown",
   "source": "## Neural Network Classifier",
   "id": "556abd8a20ec60f9"
  },
  {
   "metadata": {},
   "cell_type": "code",
   "source": "from sklearn.neural_network import MLPClassifier",
   "id": "bcaac0951e87c488",
   "outputs": [],
   "execution_count": null
  },
  {
   "metadata": {},
   "cell_type": "code",
   "source": [
    "# Instantiating the Neural Network Classifier\n",
    "mlp = MLPClassifier(random_state=42)\n",
    "\n",
    "# Fitting the Neural Network Classifier to the data\n",
    "mlp.fit(X_train, y_train)"
   ],
   "id": "4886e1148b954398",
   "outputs": [],
   "execution_count": null
  },
  {
   "metadata": {},
   "cell_type": "code",
   "source": "mlp.loss_",
   "id": "9cdbc865b7ee7031",
   "outputs": [],
   "execution_count": null
  },
  {
   "metadata": {},
   "cell_type": "code",
   "source": [
    "# plot the loss curve\n",
    "plt.figure(figsize=(10, 6))\n",
    "plt.plot(mlp.loss_curve_)\n",
    "plt.title('Loss Curve')\n",
    "plt.xlabel('Number of Iterations')\n",
    "plt.ylabel('Loss')\n",
    "plt.show()"
   ],
   "id": "4162382cf2226424",
   "outputs": [],
   "execution_count": null
  },
  {
   "metadata": {},
   "cell_type": "code",
   "source": [
    "# Making predictions on the training data\n",
    "mlp_train_preds = mlp.predict(X_train)\n",
    "\n",
    "# Evaluating the Neural Network Classifier\n",
    "print(classification_report(y_train, mlp_train_preds))"
   ],
   "id": "923288f9f4dd1526",
   "outputs": [],
   "execution_count": null
  },
  {
   "metadata": {},
   "cell_type": "code",
   "source": [
    "# Making predictions on the test data\n",
    "mlp_preds = mlp.predict(X_test)\n",
    "\n",
    "# Evaluating the Neural Network Classifier\n",
    "print(classification_report(y_test, mlp_preds))"
   ],
   "id": "40d3cf548829e1da",
   "outputs": [],
   "execution_count": null
  },
  {
   "metadata": {},
   "cell_type": "code",
   "source": [
    "training_accuracy = mlp.score(X_train, y_train)\n",
    "print(\"Training Accuracy:\", training_accuracy)\n",
    "\n",
    "testing_accuracy = mlp.score(X_test, y_test)\n",
    "print(\"Testing Accuracy:\", testing_accuracy)"
   ],
   "id": "ac69bf3deddefa07",
   "outputs": [],
   "execution_count": null
  },
  {
   "metadata": {},
   "cell_type": "markdown",
   "source": [
    "The Neural Network Classifier has an accuracy of 0.83 for both the training and test set.\n",
    "For non-failures, the Neural Network Classifier has a precision of 0.78, a recall of 0.92, and an F1-score of 0.84. For failures, the Neural Network Classifier has a precision of 0.91, a recall of 0.74, and an F1-score of 0.81."
   ],
   "id": "4e559acd631ad8d"
  },
  {
   "metadata": {},
   "cell_type": "markdown",
   "source": [
    "It's clear that the Random Forest Classifier is the best model for this dataset. The Random Forest Classifier has the highest accuracy, precision, recall, and F1-score compared to the SVM Classifier and the Neural Network Classifier.\n",
    "\n",
    "We'll use the Random Forest Classifier to make predictions on the test dataset."
   ],
   "id": "590396baaffab6ba"
  },
  {
   "metadata": {},
   "cell_type": "markdown",
   "source": "## Making Predictions on the Test Dataset",
   "id": "6c716c6c21835e7"
  },
  {
   "metadata": {},
   "cell_type": "code",
   "source": [
    "# Making predictions on the test dataset\n",
    "test_preds = rf.predict(test)"
   ],
   "id": "fd62b7b9c4cfc2b",
   "outputs": [],
   "execution_count": null
  },
  {
   "metadata": {},
   "cell_type": "code",
   "source": [
    "# Converting the predictions to a DataFrame. The columns should be id and Machine failure\n",
    "submission = pd.DataFrame({'id': test.index, 'Machine failure': test_preds})"
   ],
   "id": "11e6030c55bdd0f0",
   "outputs": [],
   "execution_count": null
  },
  {
   "metadata": {},
   "cell_type": "code",
   "source": [
    "# Saving the predictions to a CSV file\n",
    "import os\n",
    "cwd = os.getcwd()\n",
    "path = cwd + '/submission.csv'\n",
    "\n",
    "submission.to_csv(path, index=False)"
   ],
   "id": "a6f3b5ecd88e212f",
   "outputs": [],
   "execution_count": null
  },
  {
   "metadata": {},
   "cell_type": "code",
   "source": "submission['Machine failure'].value_counts(normalize=True)",
   "id": "92a06c1c51034908",
   "outputs": [],
   "execution_count": null
  },
  {
   "metadata": {},
   "cell_type": "markdown",
   "source": "Since the Fandom Forest Classifier has a better performance, we're going to train a new model using the entire dataset and make predictions on the test dataset.",
   "id": "ac48431d922f0407"
  },
  {
   "metadata": {},
   "cell_type": "code",
   "source": [
    "# Instantiating the Random Forest Classifier\n",
    "new_rf = RandomForestClassifier(random_state=42, oob_score=True)\n",
    "\n",
    "# Fitting the Random Forest Classifier to the data\n",
    "new_rf.fit(X_resampled, y_resampled)"
   ],
   "id": "57a451995d2c9ad3",
   "outputs": [],
   "execution_count": null
  },
  {
   "metadata": {},
   "cell_type": "code",
   "source": [
    "# Making predictions on the test dataset\n",
    "new_test_preds = new_rf.predict(test)"
   ],
   "id": "73bc47079f48256e",
   "outputs": [],
   "execution_count": null
  },
  {
   "metadata": {},
   "cell_type": "code",
   "source": [
    "# test the model performance\n",
    "new_rf_train_preds = new_rf.predict(X_resampled)\n",
    "\n",
    "# Evaluating the Random Forest Classifier\n",
    "print(classification_report(y_resampled, new_rf_train_preds))"
   ],
   "id": "1fb7f225871aa7f9",
   "outputs": [],
   "execution_count": null
  },
  {
   "metadata": {},
   "cell_type": "code",
   "source": [
    "training_accuracy = new_rf.score(X_resampled, y_resampled)\n",
    "print(\"Training Accuracy:\", training_accuracy)"
   ],
   "id": "20f000745b76e0e3",
   "outputs": [],
   "execution_count": null
  },
  {
   "metadata": {},
   "cell_type": "code",
   "source": [
    "# Converting the predictions to a DataFrame. The columns should be id and Machine failure\n",
    "new_submission = pd.DataFrame({'id': test.index, 'Machine failure': new_test_preds})\n",
    "\n",
    "# Saving the predictions to a CSV file\n",
    "new_path = cwd + '/new_submission.csv'\n",
    "new_submission.to_csv(new_path, index=False)"
   ],
   "id": "d18dd9d9602cfc0d",
   "outputs": [],
   "execution_count": null
  },
  {
   "metadata": {},
   "cell_type": "code",
   "source": "new_submission['Machine failure'].value_counts(normalize=True)",
   "id": "e760ebb0b6c1d926",
   "outputs": [],
   "execution_count": null
  },
  {
   "metadata": {},
   "cell_type": "code",
   "source": "",
   "id": "d009e46dfde99f87",
   "outputs": [],
   "execution_count": null
  }
 ],
 "metadata": {
  "kernelspec": {
   "display_name": "Python 3",
   "language": "python",
   "name": "python3"
  },
  "language_info": {
   "codemirror_mode": {
    "name": "ipython",
    "version": 2
   },
   "file_extension": ".py",
   "mimetype": "text/x-python",
   "name": "python",
   "nbconvert_exporter": "python",
   "pygments_lexer": "ipython2",
   "version": "2.7.6"
  }
 },
 "nbformat": 4,
 "nbformat_minor": 5
}
